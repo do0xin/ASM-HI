{
  "cells": [
    {
      "cell_type": "markdown",
      "metadata": {
        "id": "ReiIZYuz8QYZ"
      },
      "source": [
        "# 7PAVITPR: Introduction to Statistical Programming\n",
        "# Python practical 2\n",
        "\n",
        "_Angus Roberts<br/>\n",
        "Department of Biostatistics and Health Informatics<br/>\n",
        "Institute of Psychiatry, Psychology and Neuroscience<br/>\n",
        "King's College London<br/>_\n",
        "\n",
        "\n",
        "\n",
        "# Python basics\n",
        "Some simple first steps, to get used to Python and Jupyter\n",
        "\n"
      ]
    },
    {
      "cell_type": "markdown",
      "metadata": {
        "id": "62oRC-mK8QYj"
      },
      "source": [
        "## \"Hello world\"\n",
        "\n",
        "Here is the canonical \"Hello, world\" program - try it!"
      ]
    },
    {
      "cell_type": "code",
      "execution_count": null,
      "metadata": {
        "id": "QLf427hg8QYk"
      },
      "outputs": [],
      "source": [
        "# A simple program\n",
        "# to say hello\n",
        "\n",
        "print('Hello world') # This line does the output"
      ]
    },
    {
      "cell_type": "markdown",
      "metadata": {
        "id": "RPmN9Yss8QYn"
      },
      "source": [
        "This illustrates a few simple ideas:\n",
        "\n",
        "**Comments**\n",
        "- Start with a `#`\n",
        "- End with the next newline\n",
        "- You can make long comments out of lots of one line comments\n",
        "- You can put a comment at the end of a line of code\n",
        "\n",
        "**Functions and simple output**\n",
        "- `print()` is a built-in function\n",
        "- It outputs to a text stream, e.g. a file, or by default STDOUT\n",
        "- Function arguments go in parentheses, separated by commas (there is one argument in this case)\n",
        "\n",
        "**Text**\n",
        "- Text can be placed in single quotes\n",
        "- There are lots of other ways of defining text, we will talk about these later\n",
        "- The text 'Hello world' is a *literal* - it has a fixed value\n",
        "\n"
      ]
    },
    {
      "cell_type": "markdown",
      "metadata": {
        "id": "ou7H_hVT8QYp"
      },
      "source": [
        "## Assigning to variables\n",
        "Run this code:"
      ]
    },
    {
      "cell_type": "code",
      "execution_count": 3,
      "metadata": {
        "colab": {
          "base_uri": "https://localhost:8080/"
        },
        "id": "yDq2p3yv8QYq",
        "outputId": "f9bcc636-c278-45d3-a99e-f103f80a2594"
      },
      "outputs": [
        {
          "output_type": "stream",
          "name": "stdout",
          "text": [
            "1\n"
          ]
        }
      ],
      "source": [
        "some_variable = 1\n",
        "print(some_variable)"
      ]
    },
    {
      "cell_type": "markdown",
      "metadata": {
        "id": "NzOzdKg-8QYr"
      },
      "source": [
        "This shows:\n",
        "\n",
        "**Assigning to variables**\n",
        "- You can assign a value to a variable with `=`\n",
        "\n",
        "**Variables**\n",
        "\n",
        "- The number `1` on the first line is another literal\n",
        "- It is being assigned to, or given, a name `some_variable`\n",
        "- By convention, variable names are `written_with_underscores`\n",
        "- An alternative is to `useCamelCase`\n",
        "- Variables are created as soon as you assign to them"
      ]
    },
    {
      "cell_type": "markdown",
      "metadata": {
        "id": "nlZ2Gt-v8QYs"
      },
      "source": [
        "## <font color=green>💬 Discussion point</font>\n",
        "How is the use of the `print()` function different to its use in our 'Hello world' example?\n"
      ]
    },
    {
      "cell_type": "markdown",
      "source": [
        "instead of print the string we directly input, it prints a variable."
      ],
      "metadata": {
        "id": "0lQfqVFNAdGS"
      }
    },
    {
      "cell_type": "markdown",
      "metadata": {
        "id": "e1WQ_BPa8QYt"
      },
      "source": [
        "## Simple input\n",
        "Run this code:"
      ]
    },
    {
      "cell_type": "code",
      "execution_count": 2,
      "metadata": {
        "colab": {
          "base_uri": "https://localhost:8080/"
        },
        "id": "-9W8b4qW8QYu",
        "outputId": "0dec4426-98bf-4cff-85da-a868b4080b26"
      },
      "outputs": [
        {
          "output_type": "stream",
          "name": "stdout",
          "text": [
            "Enter some text: rich\n",
            "You will be rich\n"
          ]
        }
      ],
      "source": [
        "# Assign some keyboard input to a variable\n",
        "# and then print it\n",
        "\n",
        "x = input('Enter some text: ')\n",
        "print('You will be', x)"
      ]
    },
    {
      "cell_type": "markdown",
      "metadata": {
        "id": "6_dbOdRX8QYu"
      },
      "source": [
        "## <font color=green>💬 Discussion point</font>\n",
        "What kind of Python thing (i.e. what type of object) is `input()`?"
      ]
    },
    {
      "cell_type": "markdown",
      "source": [
        "interactive box"
      ],
      "metadata": {
        "id": "FCRiRZ0p9dR-"
      }
    },
    {
      "cell_type": "markdown",
      "metadata": {
        "id": "nlUjH12I8QYv"
      },
      "source": [
        "## <font color=green>💬 Discussion point</font>\n",
        "How many arguments has the `print()` function got in this example? What does the function do with each of them?"
      ]
    },
    {
      "cell_type": "markdown",
      "source": [
        "2, combine them"
      ],
      "metadata": {
        "id": "YhP9RnMK98zk"
      }
    },
    {
      "cell_type": "markdown",
      "metadata": {
        "id": "i_eQYog68QYv"
      },
      "source": [
        "## Multiple assignment\n",
        "Try this:"
      ]
    },
    {
      "cell_type": "code",
      "execution_count": 4,
      "metadata": {
        "colab": {
          "base_uri": "https://localhost:8080/"
        },
        "id": "VxRXrxqx8QYv",
        "outputId": "dff541ad-933f-4fa2-8bc9-f9be6317e888"
      },
      "outputs": [
        {
          "output_type": "stream",
          "name": "stdout",
          "text": [
            "2\n",
            "3\n"
          ]
        }
      ],
      "source": [
        "one_variable, another_variable = 2, 3\n",
        "print(one_variable)\n",
        "print(another_variable)\n"
      ]
    },
    {
      "cell_type": "markdown",
      "metadata": {
        "id": "ZZJgtQdo8QYv"
      },
      "source": [
        "## <font color=green>💬 Discussion point</font>\n",
        "What is happening in this assignment?"
      ]
    },
    {
      "cell_type": "markdown",
      "source": [
        "assign two values to two variables in one command and print them"
      ],
      "metadata": {
        "id": "3j0pomP--GpS"
      }
    },
    {
      "cell_type": "markdown",
      "metadata": {
        "id": "yIJ-pOZW8QYw"
      },
      "source": [
        "## Using functions\n",
        "In the above, we say the `input()` function _returns_ a value, and we assigned the returned value to a variable.\n",
        "\n",
        "The next exercises will help to give you further understanding of Python functions, and also practice in using the Python documentation.\n",
        "\n",
        "\n",
        "## <font color=green>❓ Question</font>\n",
        "\n",
        "- All Python functions return something\n",
        "- Write a small piece of code to find out what the `print()` function returns"
      ]
    },
    {
      "cell_type": "markdown",
      "metadata": {
        "id": "koQlnV_88QYw"
      },
      "source": [
        "## <font color=green>⌨️ Your answer</font>"
      ]
    },
    {
      "cell_type": "code",
      "execution_count": 5,
      "metadata": {
        "colab": {
          "base_uri": "https://localhost:8080/"
        },
        "id": "N_6jDMty8QYw",
        "outputId": "4a0a6f2d-1572-4cf9-ff0b-b127eb1c00d4"
      },
      "outputs": [
        {
          "output_type": "stream",
          "name": "stdout",
          "text": [
            "189.786 189\n"
          ]
        }
      ],
      "source": [
        "# Write your answer in this cell\n",
        "a = 189.786\n",
        "print(str(a), int(a))"
      ]
    },
    {
      "cell_type": "markdown",
      "metadata": {
        "id": "n6L69wRY8QYw"
      },
      "source": [
        "## <font color=green>❓ Question</font>\n",
        "Find out about the `print()` function from the [Python documentation](https://docs.python.org/3.7/index.html). You will find it described as a built-in function in the Library Reference.\n",
        "\n",
        "Write another \"hello world\" example that takes each word as a separate argument, defines how to separate them (not with the default space), and adds two newlines at the end instead of the default one."
      ]
    },
    {
      "cell_type": "markdown",
      "metadata": {
        "id": "Hpo7IRaf8QYx"
      },
      "source": [
        "## <font color=green>⌨️ Your answer</font>"
      ]
    },
    {
      "cell_type": "code",
      "execution_count": 8,
      "metadata": {
        "colab": {
          "base_uri": "https://localhost:8080/"
        },
        "id": "aROKiJGn8QYx",
        "outputId": "6d9b83a1-5b63-4ee9-8f93-dc1b26eee9dc"
      },
      "outputs": [
        {
          "output_type": "stream",
          "name": "stdout",
          "text": [
            "hello world\n",
            "hello world\n"
          ]
        }
      ],
      "source": [
        "# Write your answer in this cell\n",
        "a, b =\"hello\", \"world\"\n",
        "print(a+ \" \" + b)"
      ]
    },
    {
      "cell_type": "markdown",
      "metadata": {
        "id": "rUykieZx8QYx"
      },
      "source": [
        "## <font color=green>❓ Question</font>\n",
        "Why might multiple assignment be useful with functions? Illustrate this by using the `divmod()` function, another built-in function described in the [Python documentation](https://docs.python.org/3.7/index.html) (see the Library Reference). Write two lines of code that do a division, and prints the answer in one readable line, e.g. ***Quotient is 3 and remainder is 2***"
      ]
    },
    {
      "cell_type": "markdown",
      "metadata": {
        "id": "ylq6oWJ_8QYx"
      },
      "source": [
        "## <font color=green>⌨️ Your answer</font>"
      ]
    },
    {
      "cell_type": "code",
      "execution_count": 12,
      "metadata": {
        "colab": {
          "base_uri": "https://localhost:8080/"
        },
        "id": "xJVCfpt-8QYy",
        "outputId": "f8b0cea8-997a-4128-b809-03515960fdc6"
      },
      "outputs": [
        {
          "output_type": "stream",
          "name": "stdout",
          "text": [
            "(3, 2)\n"
          ]
        }
      ],
      "source": [
        "# Write your answer in this cell\n",
        "14//4\n",
        "14%4\n",
        "print(divmod(14, 4))"
      ]
    }
  ],
  "metadata": {
    "kernelspec": {
      "display_name": "Python 3",
      "language": "python",
      "name": "python3"
    },
    "language_info": {
      "codemirror_mode": {
        "name": "ipython",
        "version": 3
      },
      "file_extension": ".py",
      "mimetype": "text/x-python",
      "name": "python",
      "nbconvert_exporter": "python",
      "pygments_lexer": "ipython3",
      "version": "3.7.3"
    },
    "colab": {
      "provenance": []
    }
  },
  "nbformat": 4,
  "nbformat_minor": 0
}
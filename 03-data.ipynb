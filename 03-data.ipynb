{
  "cells": [
    {
      "cell_type": "markdown",
      "metadata": {
        "id": "ljclg9LBDPej"
      },
      "source": [
        "# 7PAVITPR: Introduction to Statistical Programming\n",
        "# Python practical 3\n",
        "\n",
        "_Angus Roberts<br/>\n",
        "Department of Biostatistics and Health Informatics<br/>\n",
        "Institute of Psychiatry, Psychology and Neuroscience<br/>\n",
        "King's College London<br/>_\n",
        "\n",
        "# Some data types: numbers, strings, and lists\n",
        "\n",
        "So far, we have used examples of textual and numeric data. We will now look at the main Python data types in a little more detail."
      ]
    },
    {
      "cell_type": "markdown",
      "metadata": {
        "id": "j60hFC8sDPes"
      },
      "source": [
        "### Numbers and arithmetic\n",
        "\n",
        "- The main numeric types in Python are integers (`int`) and floating point numbers (`float`).\n",
        "- The usual arithmetic operators are supported.\n",
        "\n",
        "## <font color=green>❓ Question</font>\n",
        "- What do you get if you add two integers together? What about a float and an integer? Demonstrate by adding a line to the code below.\n",
        "\n",
        "## <font color=green>⌨️ Your answer</font>"
      ]
    },
    {
      "cell_type": "code",
      "execution_count": 4,
      "metadata": {
        "id": "PQ1ry-S9DPev",
        "outputId": "40566a47-c2a6-4aab-8d64-d6f0a327191d",
        "colab": {
          "base_uri": "https://localhost:8080/"
        }
      },
      "outputs": [
        {
          "output_type": "stream",
          "name": "stdout",
          "text": [
            "int+int\t\t 2\n",
            "float+int\t 11.7\n"
          ]
        }
      ],
      "source": [
        "# Add your answer to this cell:\n",
        "print('int+int\\t\\t', 1+1)\n",
        "print('float+int\\t', 2.7+9)"
      ]
    },
    {
      "cell_type": "markdown",
      "metadata": {
        "id": "wZqrYmjnDPe1"
      },
      "source": [
        "## <font color=green>❓ Question</font>\n",
        "\n",
        "Ilustrate what these operators and built-in functions do, with some simple code:\n",
        "- `/`\n",
        "- `//`\n",
        "- `%`\n",
        "- `**`\n",
        "- `divmod(x, y)`\n",
        "- `abs(x)`\n",
        "\n",
        "\n",
        "## <font color=green>⌨️ Your answer</font>"
      ]
    },
    {
      "cell_type": "code",
      "execution_count": 5,
      "metadata": {
        "id": "xX5OWLe1DPe1",
        "outputId": "47b1c0ce-d8a5-45b0-ae9d-a64eb4ba056d",
        "colab": {
          "base_uri": "https://localhost:8080/"
        }
      },
      "outputs": [
        {
          "output_type": "stream",
          "name": "stdout",
          "text": [
            "3.5\n",
            "3\n",
            "1\n",
            "49\n"
          ]
        },
        {
          "output_type": "execute_result",
          "data": {
            "text/plain": [
              "9"
            ]
          },
          "metadata": {},
          "execution_count": 5
        }
      ],
      "source": [
        "# Write your answer in this cell:\n",
        "print(7/2) # divide\n",
        "print(7//2)\n",
        "print(7%2)\n",
        "print(7**2) # square\n",
        "divmod(7,2)\n",
        "abs(-9)"
      ]
    },
    {
      "cell_type": "markdown",
      "metadata": {
        "id": "LAfSs6DRDPe2"
      },
      "source": [
        "### String\n",
        "\n",
        "\n",
        "The basic type used to represent text is `str`, or *string*. Up to now we have shown text literals in single quotes. You can also create them in double quotes:"
      ]
    },
    {
      "cell_type": "code",
      "execution_count": 6,
      "metadata": {
        "id": "fgWqPyXTDPe3",
        "outputId": "879de43f-2e10-46a8-b91c-d3ab44c620b2",
        "colab": {
          "base_uri": "https://localhost:8080/"
        }
      },
      "outputs": [
        {
          "output_type": "stream",
          "name": "stdout",
          "text": [
            "single quotes double quotes\n"
          ]
        }
      ],
      "source": [
        "a = 'single quotes'\n",
        "b = \"double quotes\"\n",
        "print(a, b)\n"
      ]
    },
    {
      "cell_type": "markdown",
      "metadata": {
        "id": "yPwLD4fUDPe4"
      },
      "source": [
        "## <font color=green>💬 Discussion point</font>\n",
        "Why might you want to use one form of quotes, and not the other?\n",
        "\n",
        "## <font color=green>❓ Question</font>\n",
        "Write a piece of code to illustrate:\n",
        "- what the *escape sequences* `\\t` and `\\n` do when placed in a text string\n",
        "- What the escape sequence `\\\\` does when placed in a text string? Why do you need this last one?\n",
        "- What effect does putting the letter `r` in front of the string's opening quote mark have on escape sequences (e.g. `r'...'`?\n",
        "- Think of an example of when this might be useful\n",
        "\n",
        "\n",
        "## <font color=green>⌨️ Your answer</font>"
      ]
    },
    {
      "cell_type": "code",
      "execution_count": 7,
      "metadata": {
        "id": "Nz0r6RO3DPe5",
        "outputId": "6c6ca870-be75-45d1-cb76-0866d1dc6f75",
        "colab": {
          "base_uri": "https://localhost:8080/"
        }
      },
      "outputs": [
        {
          "output_type": "stream",
          "name": "stdout",
          "text": [
            "hello\t world\n",
            "hello\n",
            " world\n"
          ]
        }
      ],
      "source": [
        "# Write your answer in this cell:\n",
        "print(\"hello\\t\",\"world\")\n",
        "print(\"hello\\n\",\"world\")"
      ]
    },
    {
      "cell_type": "markdown",
      "metadata": {
        "id": "zZQ8dN_GDPe6"
      },
      "source": [
        "**Multi-line string**\n",
        "\n",
        "You can print multi-line strings like this:"
      ]
    },
    {
      "cell_type": "code",
      "execution_count": 8,
      "metadata": {
        "id": "0_sqCQ-UDPe7",
        "outputId": "686921ae-911a-4754-921a-2b65fdfb1a03",
        "colab": {
          "base_uri": "https://localhost:8080/"
        }
      },
      "outputs": [
        {
          "output_type": "stream",
          "name": "stdout",
          "text": [
            "     This string\n",
            "     spans multiple lines\n"
          ]
        }
      ],
      "source": [
        "a_big_string = '''\\\n",
        "     This string\n",
        "     spans multiple lines'''\n",
        "print(a_big_string)"
      ]
    },
    {
      "cell_type": "markdown",
      "metadata": {
        "id": "ByIotanrDPe8"
      },
      "source": [
        "## <font color=green>💬 Discussion point</font>\n",
        "What do you think the `\\` at the start of the above string does? Is this consistent with the treatment of escape sequences described above?"
      ]
    },
    {
      "cell_type": "markdown",
      "metadata": {
        "id": "OJys3d6kDPe9"
      },
      "source": [
        "## <font color=green>💬 Discussion point</font>\n",
        "Run the code below. What do you think `len()`, `*`, and `+` do?"
      ]
    },
    {
      "cell_type": "code",
      "execution_count": 9,
      "metadata": {
        "id": "VnNnR_oKDPe9",
        "outputId": "88fb42f3-62c4-4bb7-b567-538d9e690780",
        "colab": {
          "base_uri": "https://localhost:8080/"
        }
      },
      "outputs": [
        {
          "output_type": "stream",
          "name": "stdout",
          "text": [
            "4\n"
          ]
        }
      ],
      "source": [
        "print(len('a'*3+'h'))\n"
      ]
    },
    {
      "cell_type": "markdown",
      "source": [
        "len() outputs the length of string,  * repeats \"a\" for 3 times,  + combine \"aaa\" and \"h\""
      ],
      "metadata": {
        "id": "pOTEkRhsHwld"
      }
    },
    {
      "cell_type": "markdown",
      "metadata": {
        "id": "7UIl8VW0DPe9"
      },
      "source": [
        "### Slices\n",
        "- Strings are a type of Python *sequence*.\n",
        "- You can use Python to extract parts or *slices* of sequences\n",
        "- You do this with the *bracket operator* `[n]` (also referred to as *subscript notation*)\n",
        "- Appending it to the string literal or string variable, e.g. `'hello'[1]` will return `'e'`\n"
      ]
    },
    {
      "cell_type": "markdown",
      "metadata": {
        "id": "o2ggSxHfDPe-"
      },
      "source": [
        "## <font color=green>❓ Question</font>\n",
        "\n",
        "Create a string variable, and use the bracket operator `[n]` at the end of it, in a print statement. `n` is an integer.\n",
        "\n",
        "- What does a zero value of `n` return?\n",
        "- What is the largest value `n` can take?\n",
        "- What does a negative `n` do?\n",
        "- What does `[n:m]` do, where `n` and `m` are two integers?\n",
        "- What do the `n` and `m` subscripts represent?\n",
        "- What about `[n:]` and `[:n]`?\n",
        "- What does [1:10:2] do?\n",
        "- Can you explain what `some_string[4:] + some_string[:4]` does?\n",
        "\n",
        "## <font color=green>⌨️ Your answer</font>"
      ]
    },
    {
      "cell_type": "code",
      "execution_count": 13,
      "metadata": {
        "id": "N9-IRIVhDPe-",
        "outputId": "d3ae5c8f-e715-4924-fe8b-04b3774a5934",
        "colab": {
          "base_uri": "https://localhost:8080/",
          "height": 35
        }
      },
      "outputs": [
        {
          "output_type": "execute_result",
          "data": {
            "text/plain": [
              "'h face of the Uxbridge RoadNort'"
            ],
            "application/vnd.google.colaboratory.intrinsic+json": {
              "type": "string"
            }
          },
          "metadata": {},
          "execution_count": 13
        }
      ],
      "source": [
        "# Expand on this code to experiment with subscript notations.\n",
        "# in order to answer the questions above:\n",
        "some_string = 'North face of the Uxbridge Road'\n",
        "some_string[0]\n",
        "some_string[len(some_string)-1]\n",
        "len(some_string)-1\n",
        "some_string[-1]\n",
        "some_string[3:15]\n",
        "some_string[6:]\n",
        "some_string[:15]\n",
        "some_string[1:10:2]\n",
        "some_string[4:] + some_string[:4]\n"
      ]
    },
    {
      "cell_type": "markdown",
      "metadata": {
        "id": "70qIg1jYDPe-"
      },
      "source": [
        "### Typing and casting\n",
        "\n",
        "- In Python, as in many programming languages, we talk about each piece of data (e.g. variable, literal) having a *type*, which defines how it can be operated on and used by a program.\n",
        "- Strings, integers and floats are examples of types.\n",
        "\n",
        "## <font color=green>💬 Discussion point</font>\n",
        "Python is *dynamically typed*. Take a look at the example below, run the code, and see if you can work out:\n",
        "- What has happened to `some_variable`?\n",
        "- What is the function `type` doing?\n",
        "- What do we mean by *dynamically typed*?\n"
      ]
    },
    {
      "cell_type": "markdown",
      "source": [
        "you  can change the type of a variable"
      ],
      "metadata": {
        "id": "4nkMATxMGtEA"
      }
    },
    {
      "cell_type": "code",
      "execution_count": 1,
      "metadata": {
        "id": "N_lV4TuGDPe_",
        "outputId": "14ca059a-2c4c-4c78-f45d-4a3fa43a5a87",
        "colab": {
          "base_uri": "https://localhost:8080/"
        }
      },
      "outputs": [
        {
          "output_type": "stream",
          "name": "stdout",
          "text": [
            "<class 'str'>\n",
            "<class 'int'>\n"
          ]
        }
      ],
      "source": [
        "some_variable = 'a string'\n",
        "print(type(some_variable))\n",
        "\n",
        "some_variable = 1\n",
        "print(type(some_variable))\n"
      ]
    },
    {
      "cell_type": "markdown",
      "metadata": {
        "id": "QswHLrwmDPe_"
      },
      "source": [
        "## <font color=green>💬 Discussion point</font>\n",
        "\n",
        "Take a look at the two pieces of code below, and run them. Both are examples of *casting* variables. Can you explain what is happening in each?\n"
      ]
    },
    {
      "cell_type": "markdown",
      "source": [
        "in the first example, x and y is string, use int() to change string into integer.\n",
        "\n",
        "in the second example, x and y is integer, use str() to change int into string."
      ],
      "metadata": {
        "id": "UMg6T8CNHCPO"
      }
    },
    {
      "cell_type": "code",
      "execution_count": 2,
      "metadata": {
        "id": "hfEZLbnbDPe_",
        "outputId": "3f8fb51c-4580-47c8-869c-6627a004b8e6",
        "colab": {
          "base_uri": "https://localhost:8080/"
        }
      },
      "outputs": [
        {
          "output_type": "stream",
          "name": "stdout",
          "text": [
            "14\n",
            "5\n",
            "5.0\n"
          ]
        }
      ],
      "source": [
        "# Casting example 1 - explain what is happening\n",
        "x = '1'\n",
        "y = '4'\n",
        "print(x + y)\n",
        "print(int(x) + int(y))\n",
        "print(float(x) + int(y))\n"
      ]
    },
    {
      "cell_type": "code",
      "execution_count": 3,
      "metadata": {
        "id": "2h2yx43uDPfA",
        "outputId": "f0464cb9-624f-418e-8bbc-b2565826b853",
        "colab": {
          "base_uri": "https://localhost:8080/"
        }
      },
      "outputs": [
        {
          "output_type": "stream",
          "name": "stdout",
          "text": [
            "5\n",
            "14\n"
          ]
        }
      ],
      "source": [
        "# Casting example 2 - explain what is happening\n",
        "x = 1\n",
        "y = 4\n",
        "print(x + y)\n",
        "print(str(x) + str(y))"
      ]
    },
    {
      "cell_type": "markdown",
      "metadata": {
        "id": "Qxjnbbk6DPfA"
      },
      "source": [
        "## <font color=green>❓ Question</font>\n",
        "\n",
        "Using the `input()` and `print()` functions and casting, write a short piece of code that asks the user to input two numbers, and prints the result of summing them.\n",
        "\n",
        "## <font color=green>⌨️ Your answer</font>"
      ]
    },
    {
      "cell_type": "code",
      "execution_count": 7,
      "metadata": {
        "id": "Horx6kMgDPfB",
        "outputId": "4941b295-22ae-4dbe-dc7f-1ebc46260efc",
        "colab": {
          "base_uri": "https://localhost:8080/"
        }
      },
      "outputs": [
        {
          "output_type": "stream",
          "name": "stdout",
          "text": [
            "number1: 77\n",
            "number2: 80\n",
            "the sum is:157\n"
          ]
        }
      ],
      "source": [
        "# Write your answer in this cell:\n",
        "x= input(\"number1: \")\n",
        "y= input(\"number2: \")\n",
        "print(\"the sum is:\"+ str(int(x)+int(y)))"
      ]
    },
    {
      "cell_type": "markdown",
      "metadata": {
        "id": "-U298V1NDPfB"
      },
      "source": [
        "### Lists\n",
        "\n",
        "- The next data type we will look at is the `list`, which is used to group together values.\n",
        "- Data types which are made up of others are referred to as *compound types*\n",
        "- We create lists using `[]`\n",
        "- Run this code for an example:\n"
      ]
    },
    {
      "cell_type": "code",
      "execution_count": 8,
      "metadata": {
        "id": "fODouGkpDPfB",
        "outputId": "e46b6b08-d5e8-4995-929d-10cde58d1cab",
        "colab": {
          "base_uri": "https://localhost:8080/"
        }
      },
      "outputs": [
        {
          "output_type": "stream",
          "name": "stdout",
          "text": [
            "[10, 11, 14, 9, 11, 37]\n"
          ]
        }
      ],
      "source": [
        "values = [10, 11, 14, 9, 11, 37]\n",
        "print(values)"
      ]
    },
    {
      "cell_type": "markdown",
      "metadata": {
        "id": "L48wR5lfDPfC"
      },
      "source": [
        "## <font color=green>💬 Discussion point</font>\n",
        "Take a look at the code below.\n",
        "- What does it tell us about creating lists?\n",
        "- What does it tell us about what lists can contain?"
      ]
    },
    {
      "cell_type": "markdown",
      "source": [
        "can put many types in a list\n",
        "\n",
        "can contain str int list"
      ],
      "metadata": {
        "id": "E_7xKyBKJOUS"
      }
    },
    {
      "cell_type": "code",
      "execution_count": 9,
      "metadata": {
        "id": "_4E2bBoKDPfC",
        "outputId": "c265d883-27a6-4bb9-84ff-46559648f257",
        "colab": {
          "base_uri": "https://localhost:8080/"
        }
      },
      "outputs": [
        {
          "output_type": "stream",
          "name": "stdout",
          "text": [
            "Here's a <class 'list'>\n",
            "\n",
            " [2, 8, 5, 'H', [14, 9]]\n",
            "\n",
            "It contains\n",
            "\n",
            "\t <class 'int'>\n",
            "\t <class 'str'>\n",
            "\t <class 'list'>\n"
          ]
        }
      ],
      "source": [
        "more_values = [1+1, 2*4, len('Hello'), 'Hello'[0], values[2:4]]\n",
        "\n",
        "print(\"Here's a\", type(more_values))\n",
        "print('\\n', more_values)\n",
        "print('\\nIt contains\\n')\n",
        "print('\\t', type(more_values[0]))\n",
        "print('\\t', type(more_values[3]))\n",
        "print('\\t', type(more_values[4]))\n"
      ]
    },
    {
      "cell_type": "markdown",
      "metadata": {
        "id": "PSvXzNb9DPfC"
      },
      "source": [
        "**Lists are sequences**\n",
        "\n",
        "Like the `str` data type (strings), lists are also sequences, and so many of the  operators we used with strings, will also work with lists.\n",
        "\n",
        "## <font color=green>❓ Question</font>\n",
        "\n",
        "\n",
        "Amend the code below, using slices to create two new lists from the one given. The first should contain the first and last elements of the given list. The second should contain all of the other elements.\n",
        "\n",
        "## <font color=green>⌨️ Your answer</font>"
      ]
    },
    {
      "cell_type": "code",
      "execution_count": 11,
      "metadata": {
        "id": "fmjSvGsYDPfC",
        "outputId": "dae9ad1d-d44e-40ff-fd55-e70904cf8b4e",
        "colab": {
          "base_uri": "https://localhost:8080/"
        }
      },
      "outputs": [
        {
          "output_type": "stream",
          "name": "stdout",
          "text": [
            "[10, 37]\n",
            "[11, 14, 9, 11]\n"
          ]
        }
      ],
      "source": [
        "# Amend the code below to give your answer\n",
        "values = [10, 11, 14, 9, 11, 37]\n",
        "\n",
        "# replace each xxx and uncomment this next line\n",
        "ends = [10,37]\n",
        "print(ends)\n",
        "\n",
        "# replace xxx and uncomment this next line\n",
        "middle = values[1:5]\n",
        "print(middle)\n"
      ]
    },
    {
      "cell_type": "markdown",
      "metadata": {
        "id": "YgUDRXvRDPfC"
      },
      "source": [
        "## <font color=green>💬 Discussion point</font>\n",
        "\n",
        "Try the following out with your above code:\n",
        "\n",
        "- What does the code do if the list has only one member?\n",
        "- What if it is an empty list?\n",
        "- Why?"
      ]
    },
    {
      "cell_type": "markdown",
      "metadata": {
        "id": "vdxJJsv1DPfD"
      },
      "source": [
        "## <font color=green>❓ Question</font>\n",
        "\n",
        "Write a short piece of code to illustrate what the following slice operator does:\n",
        "\n",
        "`values[i:j:k]`\n",
        "\n",
        "## <font color=green>⌨️ Your answer</font>\n"
      ]
    },
    {
      "cell_type": "code",
      "execution_count": 12,
      "metadata": {
        "id": "07tX9VznDPfD",
        "outputId": "d419132b-448b-4a75-a1df-2ab2e9cee67c",
        "colab": {
          "base_uri": "https://localhost:8080/"
        }
      },
      "outputs": [
        {
          "output_type": "stream",
          "name": "stdout",
          "text": [
            "yhni sf\n"
          ]
        }
      ],
      "source": [
        "# Write your answer in this cell:\n",
        "a = \"python is useful\"\n",
        "print(a[1:15:2])"
      ]
    },
    {
      "cell_type": "markdown",
      "metadata": {
        "id": "HMo18VQ1DPfD"
      },
      "source": [
        "### Mutability\n",
        "\n",
        "Lists are *mutable*. This means we can change their values, like this:\n",
        "\n",
        "`values[2] = 4`\n",
        "\n",
        "## <font color=green>❓ Question</font>\n",
        "\n",
        "Amend the code below to\n",
        "- change the last item in the list to `12`. Make sure your code will work with any length of list, by not using the actual index number of the last item.\n",
        "- replace the 4 middle items (i.e. all except first and last) with the single value `2`, giving a 3 item list\n",
        "(*hint* - try replacing the middle items with a new list, containing 1 item)\n",
        "\n",
        "## <font color=green>⌨️ Your answer</font>\n"
      ]
    },
    {
      "cell_type": "code",
      "execution_count": 14,
      "metadata": {
        "id": "PEaa4XP9DPfD",
        "outputId": "83712082-a1bb-4962-c912-4ebec251c5c8",
        "colab": {
          "base_uri": "https://localhost:8080/"
        }
      },
      "outputs": [
        {
          "output_type": "stream",
          "name": "stdout",
          "text": [
            "[10, 11, 14, 9, 11, 15]\n",
            "[10, [2, 4, 6], 15]\n"
          ]
        }
      ],
      "source": [
        "# Write your answer in this cell:\n",
        "values = [10, 11, 14, 9, 11, 37]\n",
        "# Add a line here, to change the last to something else\n",
        "values[-1] = 15\n",
        "print(values)\n",
        "# Add a line here, to replace the middle 4 items with a single value,\n",
        "# to give a 3 item list\n",
        "values[1:5] = [[2,4,6]]\n",
        "print(values)"
      ]
    },
    {
      "cell_type": "markdown",
      "metadata": {
        "id": "3YhYpDoEDPfD"
      },
      "source": [
        "## <font color=green>💬 Discussion point</font>\n",
        "Are strings mutable? Why is Python designed this way?"
      ]
    },
    {
      "cell_type": "markdown",
      "source": [
        "strings are mutable"
      ],
      "metadata": {
        "id": "XAOZqlchK-05"
      }
    },
    {
      "cell_type": "markdown",
      "metadata": {
        "id": "yu3AqjwnDPfE"
      },
      "source": [
        "### What's in a name? Python's reference semantics\n",
        "\n",
        "Although we have used the word _variables_ quite a lot, this is lazy. Really, Python has _names_, which themselves refer not to data, but to references to that objects (data in the simlpe case) in memory.\n",
        "\n",
        "This means  several names can refer to the same piece of data.\n",
        "\n",
        "Try the following code:"
      ]
    },
    {
      "cell_type": "code",
      "execution_count": 15,
      "metadata": {
        "id": "KxpZYfRODPfE",
        "outputId": "9afde5da-7b2c-4951-cb79-dba11bad532e",
        "colab": {
          "base_uri": "https://localhost:8080/"
        }
      },
      "outputs": [
        {
          "output_type": "stream",
          "name": "stdout",
          "text": [
            "[1, 2, 3, 4]\n",
            "[1, 2, 3, 4]\n"
          ]
        }
      ],
      "source": [
        "x = [1, 2, 3]\n",
        "y = x\n",
        "x.append(4)\n",
        "print( x )\n",
        "print( y )"
      ]
    },
    {
      "cell_type": "markdown",
      "metadata": {
        "id": "ZNAkFLp1DPfE"
      },
      "source": [
        "## <font color=green>💬 Discussion point</font>\n",
        "\n",
        "Can you explain what has happened in the above code?\n",
        "\n",
        "Now try the next piece of code, and explain what is happening here:"
      ]
    },
    {
      "cell_type": "code",
      "execution_count": 16,
      "metadata": {
        "id": "7TbdDdeiDPfL",
        "outputId": "88f2e8b8-4311-4e50-8ad5-43bffb08ab65",
        "colab": {
          "base_uri": "https://localhost:8080/"
        }
      },
      "outputs": [
        {
          "output_type": "stream",
          "name": "stdout",
          "text": [
            "20\n",
            "10\n"
          ]
        }
      ],
      "source": [
        "x = 10\n",
        "y = x\n",
        "x = x + 10\n",
        "print( x )\n",
        "print( y )"
      ]
    },
    {
      "cell_type": "markdown",
      "metadata": {
        "id": "qyztLuHaDPfL"
      },
      "source": [
        "### Copying lists\n",
        "\n",
        "When we copy a list in Python, the copy is *shallow*.\n",
        "\n",
        "## <font color=green>💬 Discussion point</font>\n",
        "\n",
        "Take a look at the code below, run it, and explain what we mean by a *shallow copy*."
      ]
    },
    {
      "cell_type": "code",
      "execution_count": 17,
      "metadata": {
        "id": "YOTvenWIDPfL",
        "outputId": "8beee8c2-5d31-49f2-e14d-1a6ecb6a9b50",
        "colab": {
          "base_uri": "https://localhost:8080/"
        }
      },
      "outputs": [
        {
          "output_type": "stream",
          "name": "stdout",
          "text": [
            "['a', 'b', [1, 2, 3]]\n",
            "['a', 'b', [1, 2, 3]]\n",
            "['a', 'b', [1, 2, 3]]\n",
            "['a', 'b', [1, 2, 'c']]\n"
          ]
        }
      ],
      "source": [
        "inner = [1, 2, 3]\n",
        "outer = ['a', 'b', inner]\n",
        "\n",
        "print(outer)\n",
        "\n",
        "copy_of_outer = outer[:]\n",
        "copy_of_inner = inner[:]\n",
        "\n",
        "print(copy_of_outer)\n",
        "\n",
        "outer[2] = 'c'\n",
        "print(copy_of_outer)\n",
        "\n",
        "inner[2] = 'c'\n",
        "print(copy_of_outer)"
      ]
    }
  ],
  "metadata": {
    "kernelspec": {
      "display_name": "Python 3",
      "language": "python",
      "name": "python3"
    },
    "language_info": {
      "codemirror_mode": {
        "name": "ipython",
        "version": 3
      },
      "file_extension": ".py",
      "mimetype": "text/x-python",
      "name": "python",
      "nbconvert_exporter": "python",
      "pygments_lexer": "ipython3",
      "version": "3.7.3"
    },
    "colab": {
      "provenance": []
    }
  },
  "nbformat": 4,
  "nbformat_minor": 0
}